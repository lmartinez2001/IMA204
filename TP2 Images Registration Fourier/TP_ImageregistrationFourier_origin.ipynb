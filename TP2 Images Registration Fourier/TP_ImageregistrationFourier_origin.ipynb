{
  "nbformat": 4,
  "nbformat_minor": 0,
  "metadata": {
    "colab": {
      "name": "TP_ImageregistrationFourier.ipynb",
      "provenance": [],
      "collapsed_sections": []
    },
    "kernelspec": {
      "name": "python3",
      "display_name": "Python 3"
    }
  },
  "cells": [
    {
      "cell_type": "markdown",
      "metadata": {
        "id": "K-6JCZ5lcbVs"
      },
      "source": [
        "## Image registration (Fourier based)\n",
        "\n",
        "**Deadline**: Upload this notebook (rename it as 'TP-ImageregistrationFourier-YOUR-SURNAME.ipynb') to E-Campus before the deadline. Please check on E-Campus for the exact date.\n",
        "\n",
        "**Goal**: The goal of this notebook is to implement the algorithms seen today for Fourier-based rigid image registration. We will focus only on translation and rotation. Please andwer the questions and complete the code where you see **XXXXXXXXXXXXXX**"
      ]
    },
    {
      "cell_type": "markdown",
      "metadata": {
        "id": "bddjx-PbdUg9"
      },
      "source": [
        "Let's first download (or upload if you are using your own computer) the data."
      ]
    },
    {
      "cell_type": "code",
      "metadata": {
        "id": "U7vY-eETsfSb"
      },
      "source": [
        "if 'google.colab' in str(get_ipython()):\n",
        "  from google_drive_downloader import GoogleDriveDownloader as gdd\n",
        "  gdd.download_file_from_google_drive(file_id='1slGiE3jssCrFft-2TbcsWHrst95DDShT',\n",
        "  dest_path='./paris-satellite.jpg')\n",
        "\n",
        "  from google_drive_downloader import GoogleDriveDownloader as gdd\n",
        "  gdd.download_file_from_google_drive(file_id='1MVIhPTMq-KjuawlwIVvS063UpAOQYvzo',\n",
        "  dest_path='./Chess_Board.png')\n",
        "else:\n",
        "  print('You are not using Colab. Please define working_dir with the absolute path to the folder where you downloaded the data')\n",
        "\n",
        "# Please modify working_dir only if you are using your Anaconda (and not Google Colab)\n",
        "# You should write the absolute path of your working directory with the data\n",
        "workingDir='./'  "
      ],
      "execution_count": null,
      "outputs": []
    },
    {
      "cell_type": "markdown",
      "metadata": {
        "id": "GQArvddEdbSj"
      },
      "source": [
        "and the needed libraries"
      ]
    },
    {
      "cell_type": "code",
      "metadata": {
        "id": "tYoubMLiuSKn"
      },
      "source": [
        "import math\n",
        "import numpy as np\n",
        "from numpy import linalg as LA\n",
        "from matplotlib import pyplot as plt\n",
        "from skimage.io import imread\n",
        "from skimage.transform import resize, rescale, warp_polar, warp, SimilarityTransform, rotate\n",
        "from skimage.morphology import square, dilation\n"
      ],
      "execution_count": null,
      "outputs": []
    },
    {
      "cell_type": "markdown",
      "metadata": {
        "id": "2TgYby5tdeDb"
      },
      "source": [
        "Please run the following algorithms using a satellite image of Paris and a figure of a chessboard."
      ]
    },
    {
      "cell_type": "code",
      "metadata": {
        "id": "nveozTvUr6hh"
      },
      "source": [
        "img = imread(workingDir + 'paris-satellite.jpg')\n",
        "#img = imread(workingDir + 'Chess_Board.png')\n",
        "\n",
        "#print(img.shape)\n",
        "\n",
        "fig = plt.figure(figsize=(20, 15))\n",
        "ax1 = plt.subplot(1, 3, 1)\n",
        "ax2 = plt.subplot(1, 3, 2)\n",
        "ax3 = plt.subplot(1, 3, 3)\n",
        "ax1.imshow(img[:,:,0], cmap='gray')\n",
        "ax1.invert_yaxis()\n",
        "ax1.set_title('R')\n",
        "ax2.imshow(img[:,:,1], cmap='gray')\n",
        "ax2.invert_yaxis()\n",
        "ax2.set_title('G')\n",
        "ax3.imshow(img[:,:,2], cmap='gray')\n",
        "ax3.invert_yaxis()\n",
        "ax3.set_title('B')\n",
        "plt.show() \n"
      ],
      "execution_count": null,
      "outputs": []
    },
    {
      "cell_type": "markdown",
      "metadata": {
        "id": "wqnm5-sVds6C"
      },
      "source": [
        "In order to compute the rotation and translation displacement between two images we first need to define a funtion which computes the phase correlation. Please complete the code "
      ]
    },
    {
      "cell_type": "markdown",
      "metadata": {
        "id": "6iISYxDKKMmD"
      },
      "source": [
        "Remember than in `numpy`:\n",
        "*   to compute the FFT we use `np.fft.fft2`\n",
        "*   to compute the inverse FFT we use `np.fft.ifft2`\n",
        "*   to compute the complex conjugate you can use `np.conj`\n",
        "*   to compute the magnitude of a Fourier transform $F$ you can use `np.sqrt(np.real(F)**2 + np.imag(F)**2)` or simply `np.abs`\n",
        "*   Another important function maybe useful for later... `np.fft.fftshift`"
      ]
    },
    {
      "cell_type": "code",
      "metadata": {
        "id": "WS7h1Doa9idN"
      },
      "source": [
        "def phaseCorrelation(X,Y):\n",
        "  # Compute the fft of X\n",
        "  fX = XXXXXXXXXXX\n",
        "  if np.any(np.isnan(fX)) or np.any(np.isinf(fX)):\n",
        "    print('problem ! There is a Nan and or Inf')\n",
        "  # Compute the fft of the translated image Y\n",
        "  fY = XXXXXXXXXXX\n",
        "  if np.any(np.isnan(fY)) or np.any(np.isinf(fY)):\n",
        "    print('problem ! There is a Nan and or Inf')\n",
        "  # Compute the complex conjugate  \n",
        "  fYc=XXXXXXXXXXX\n",
        "  # Compute cross-power spectrum\n",
        "  eps=1e-30 # in order not to divide by zero\n",
        "  CPS=XXXXXXXXXXX\n",
        "  # compute the shift\n",
        "  shift=XXXXXXXXXXX\n",
        "  # take only the real part (it should be a real delta...)\n",
        "  realShift=XXXXXXXXXXX\n",
        "  # delete small values (noise)\n",
        "  XXXXXXXXXXX  \n",
        "  # look for the index corresponding to the maximum value\n",
        "  ind = XXXXXXXXXXX\n",
        "  # ind[0] corresponds to the row thus to the shift along the second axis (i.e. y-axis)\n",
        "  # ind[1] corresponds to the column thus to the shift along the first axis (i.e. x-axis)\n",
        "  return ind,realShift \n"
      ],
      "execution_count": null,
      "outputs": []
    },
    {
      "cell_type": "markdown",
      "metadata": {
        "id": "29GtSk9Rd8Og"
      },
      "source": [
        "Let's first create a translated version of the original image with and without Gaussian noise. To simplify things we will just use one channel (a gray image). You can choose the channel you want. \n",
        "\n",
        "To deform the image, we will use the `warp` function of scikit-image. You will have to choose if you want a linear shift (`mode='constant'`) or a circular shift (`mode='wrap')"
      ]
    },
    {
      "cell_type": "code",
      "metadata": {
        "id": "hao80o5CvEkp"
      },
      "source": [
        "# Let's use only one channel\n",
        "imgG=XXXXXXXXXXX\n",
        "a=XXXXXXXXXXX # should be smaller than imgG.shape[0]\n",
        "b=XXXXXXXXXXX # should be smaller than imgG.shape[1]\n",
        "\n",
        "# simple translation (the minus sign is to make it consistent with the lecture slides)\n",
        "tformTranslation = SimilarityTransform(translation=(-a,-b)) \n",
        "# translated image\n",
        "# mode='wrap' to have circuar shift or mode='constant' to have zero padding\n",
        "# It works in both cases !! Even though we always assume a circuar shift transated image\n",
        "imgGT = warp(imgG, tformTranslation, mode='wrap') \n",
        "# translated and noise image\n",
        "imgGTN = imgGT + np.random.normal(0, 0.15, imgGT.shape)\n",
        "\n",
        "fig = plt.figure(figsize=(20, 15))\n",
        "ax1 = plt.subplot(1, 3, 1)\n",
        "ax2 = plt.subplot(1, 3, 2)\n",
        "ax3 = plt.subplot(1, 3, 3)\n",
        "ax1.imshow(imgG, cmap='gray')\n",
        "ax1.invert_yaxis()\n",
        "ax1.set_title('original image')\n",
        "ax2.imshow(imgGT, cmap='gray')\n",
        "ax2.invert_yaxis()\n",
        "ax2.set_title('image translated')\n",
        "ax3.imshow(imgGTN, cmap='gray')\n",
        "ax3.invert_yaxis()\n",
        "ax3.set_title('image translated + Gaussian noise')\n",
        "plt.show() "
      ],
      "execution_count": null,
      "outputs": []
    },
    {
      "cell_type": "markdown",
      "metadata": {
        "id": "rkmEU79teqg4"
      },
      "source": [
        "Let's try to find the translation parameters using the phase Correlation method.\n",
        "\n",
        "Remember that when assuming a circular shift, as it is case here, a negative displacement $a$ is equivalent to a positive displacement $N+a$ where we also assume that $a<N$. Same things for $b$.\n",
        "\n",
        "Furthermore, we assume that we don't know whether the image has been created using a circular or a linear shift. You will have to test it and find the correct warp mode !\n",
        "\n",
        "Question: How would you find the correct image ? Implement your idea."
      ]
    },
    {
      "cell_type": "markdown",
      "metadata": {
        "id": "Y6QZrq5xF6hi"
      },
      "source": [
        "# Translate image"
      ]
    },
    {
      "cell_type": "code",
      "metadata": {
        "id": "OgA3POB2uT7e"
      },
      "source": [
        "ind, realShift=phaseCorrelation(XXXXXXXXXXX)\n",
        "if a<0:\n",
        "  print('Expected a is:', imgG.shape[0]+a, ' using a circular shift this is equivalent to:', a)\n",
        "else:\n",
        "  print('Expected a is:', a)  \n",
        "print('Estimated a is:', ind[1], 'using a circular shift this is equivalent to:', ind[1]-imgG.shape[0])     \n",
        "\n",
        "if b<0:\n",
        "  print('Expected b is:', imgG.shape[1]+b, ' using a circular shift this is equivalent to:', b)\n",
        "else:\n",
        "  print('Expected b is:', b)  \n",
        "  print('Estimated b is:', ind[0], 'using a circular shift this is equivalent to:', ind[0]-imgG.shape[1])   \n",
        "\n",
        "#\n",
        "# look for the correct image\n",
        "#\n",
        "\n",
        "alist = [XXXXXXXXXXX]\n",
        "blist = [XXXXXXXXXXX\n",
        "linearImages=[]\n",
        "linearParam=[]\n",
        "for a, b in zip(alist, blist):\n",
        "  linearImages.append(XXXXXXXXXXX)\n",
        "  linearParam.append(XXXXXXXXXXX)\n",
        "\n",
        "# Look for the right combination of parameters and for the right warp mode\n",
        "XXXXXXXXXXX\n",
        "\n",
        "#\n",
        "# Plot images\n",
        "#\n",
        "\n",
        "fig, axs = plt.subplots(3,4, figsize=(20, 20))\n",
        "fig.subplots_adjust(hspace = .5, wspace=.001)\n",
        "axs = axs.ravel()\n",
        "axs[0].imshow(imgG, cmap='gray')\n",
        "axs[0].set_title('Original Image')\n",
        "axs[1].imshow(imgGT , cmap='gray')\n",
        "axs[1].set_title('Image translated')\n",
        "# we use a dilation to be able to see the point (an impulse)\n",
        "axs[2].imshow(dilation(realShift,square(10)), cmap='gray')\n",
        "axs[2].set_title('shift (gray)')\n",
        "axs[3].imshow(dilation(realShift,square(10)))\n",
        "axs[3].set_title('shift (colored)')\n",
        "k=4\n",
        "# Plot all possible images with both the wrap mode and the constant mode\n",
        "for i in range(XXXXXXXXXXX):\n",
        "  axs[k].imshow(warp(imgG, SimilarityTransform(translation=(-alist[i],-blist[i])) , mode='wrap') , cmap='gray')\n",
        "  axs[k].set_title('Estimated image with circular shift \\n using a={0}, b={1}'.format( alist[i],blist[i]))\n",
        "  k=k+1\n",
        "for i in range(XXXXXXXXXXX):\n",
        "  axs[k].imshow(warp(imgG, SimilarityTransform(translation=(-alist[i],-blist[i])) , mode='constant') , cmap='gray')\n",
        "  axs[k].set_title('Estimated image with linear shift \\n using a={0}, b={1}'.format( alist[i],blist[i]))\n",
        "  k=k+1\n",
        "plt.show() \n"
      ],
      "execution_count": null,
      "outputs": []
    },
    {
      "cell_type": "markdown",
      "metadata": {
        "id": "JgXuM4AWF8tq"
      },
      "source": [
        "# Translation and Gaussian noise image\n",
        "\n",
        "Please do exactly the same thing as before but using the translated image with noise. \n",
        "\n",
        "Question: Does the noise have an impact on the estimate ? If yes, when ?"
      ]
    },
    {
      "cell_type": "code",
      "metadata": {
        "id": "EFwT8__wDWtN"
      },
      "source": [
        "XXXXXXXXXXX"
      ],
      "execution_count": null,
      "outputs": []
    },
    {
      "cell_type": "markdown",
      "metadata": {
        "id": "dzx4bm8rMVa7"
      },
      "source": [
        "## Rotation (with respect to the center of the image)\n",
        "\n",
        "Here, you will look for the rotation angle.\n",
        "First, let's create a rotated version of the original image with respect to the center of the image. Please be careful to perform the following analyses always with respect to the center of the image.\n",
        "\n"
      ]
    },
    {
      "cell_type": "code",
      "metadata": {
        "id": "mYOkmBe3wWwH"
      },
      "source": [
        "# Let's use only one channel\n",
        "imgG=XXXXXXXXXXX\n",
        "theta=XXXXXXXXXXX # Rotation angle in counter-clockwise direction as degree.\n",
        "\n",
        "# simple rotation (minus sign to be consistent with the slides)\n",
        "tformRotation = SimilarityTransform(rotation=-(math.pi*theta)/180)\n",
        "\n",
        "# Compute the center of the image\n",
        "center = np.array((imgG.shape[0], imgG.shape[1])) / 2.\n",
        "# compute the translation to have the origin at the center of the image\n",
        "tform1 = SimilarityTransform(translation=-center)\n",
        "# compute the translation to bring back the origin at the original position\n",
        "tform3 = SimilarityTransform(translation=center)\n",
        "# unite transformations, applied in order from left to right\n",
        "tform = tform1 + tformRotation + tform3\n",
        "\n",
        "# rotated image. Linear shift mode='constant'. Circular shift mode='wrap'\n",
        "imgGR = warp(imgG, tform, mode='wrap')\n",
        "# translated and noise image\n",
        "imgGRN = imgGR + np.random.normal(0, 0.1, imgGT.shape)\n",
        "\n",
        "fig = plt.figure(figsize=(20, 15))\n",
        "ax1 = plt.subplot(1, 3, 1)\n",
        "ax2 = plt.subplot(1, 3, 2)\n",
        "ax3 = plt.subplot(1, 3, 3)\n",
        "ax1.imshow(imgG, cmap='gray')\n",
        "ax1.set_title('original image')\n",
        "ax2.imshow(imgGR, cmap='gray')\n",
        "ax2.set_title('image rotated')\n",
        "ax3.imshow(imgGRN, cmap='gray')\n",
        "ax3.set_title('image rotated + Gaussian noise')\n",
        "plt.show() "
      ],
      "execution_count": null,
      "outputs": []
    },
    {
      "cell_type": "markdown",
      "metadata": {
        "id": "OvdENVxAgiqd"
      },
      "source": [
        "As before, we have two ambiguities. One about the angle, which could be $\\alpha$ or $\\alpha +180$ degrees. And the other one with respect to the shift that has been used to create the rotated image (linear or circular).\n",
        "\n",
        "Please look for the correct set of parameters (angle and warp mode). First for the rotated image..."
      ]
    },
    {
      "cell_type": "code",
      "metadata": {
        "id": "OfjBh4aY_s73"
      },
      "source": [
        "# computation of amplitude/magnitude of original and rotated image\n",
        "# we also shift the zero-frequency component to the center of the spectrum since we want to have the origin in the middle\n",
        "# Hint: look at the previously presented 'useful' function...\n",
        "MimgG = XXXXXXXXXXX\n",
        "MimgGR = XXXXXXXXXXX\n",
        "\n",
        "# center is assumed to be the middle of the image\n",
        "# We will use warp_polar of scikit image but other functions could be used\n",
        "MimgGP = warp_polar(MimgG) \n",
        "MimgGRP = warp_polar(MimgGR)\n",
        "\n",
        "ind, realShift=phaseCorrelation(XXXXXXXXXXX)\n",
        "print('Expected angle (degrees) of rotation:', theta)\n",
        "print('Estimated angle (degrees) of rotation:',ind[0], 'or', ind[0]+180)\n",
        "\n",
        "#\n",
        "# look for the correct image\n",
        "#\n",
        "anglelist = [XXXXXXXXX]\n",
        "modeList=[XXXXXXXXX]\n",
        "Images=[]\n",
        "Param=[]\n",
        "for t, m in zip(anglelist, modeList):\n",
        "  Images.append(XXXXXXXXXXX)\n",
        "  Param.append(XXXXXXXXXXX)\n",
        "\n",
        "\n",
        "# Look for the right combination of parameters and for the right warp mode\n",
        "XXXXXXXXXXX\n",
        "\n",
        "\n",
        "# Plot images and results\n",
        "fig, axs = plt.subplots(2,4, figsize=(20, 10))\n",
        "fig.subplots_adjust(hspace = .5, wspace=.001)\n",
        "axs = axs.ravel()\n",
        "axs[0].imshow(imgG, cmap='gray')\n",
        "axs[0].set_title('Original Image')\n",
        "axs[1].imshow(20*np.log(MimgG))\n",
        "axs[1].set_title('Centered Magnitude Spectrum Original Image')\n",
        "axs[2].imshow(imgGR, cmap='gray')\n",
        "axs[2].set_title('Rotated Image')\n",
        "axs[3].imshow(20*np.log(MimgGR))\n",
        "axs[3].set_title('Centered Magnitude Spectrum Rotated Image')\n",
        "k=4\n",
        "for i in range(XXXXXXXXX):\n",
        "  axs[k].imshow(warp(imgG,tform1+ SimilarityTransform(rotation=-(math.pi*anglelist[i])/180) + tform3 , mode=modeList[i]) , cmap='gray')\n",
        "  axs[k].set_title('Estimated image with {0} mode shift \\n using an angle of {1} degrees'.format(modeList[i],anglelist[i] ))\n",
        "  k=k+1\n",
        "plt.show() \n"
      ],
      "execution_count": null,
      "outputs": []
    },
    {
      "cell_type": "markdown",
      "metadata": {
        "id": "1aYqYGFThLHW"
      },
      "source": [
        "... and then for the rotated image with Gaussian noise.\n",
        "\n",
        "Question: Does the white noise have an impact here ? "
      ]
    },
    {
      "cell_type": "code",
      "metadata": {
        "id": "aTBW7rWjb8Uq"
      },
      "source": [
        "XXXXXXXXX"
      ],
      "execution_count": null,
      "outputs": []
    },
    {
      "cell_type": "markdown",
      "metadata": {
        "id": "NejOhE04lp1Z"
      },
      "source": [
        "**Question**: Answer the previous questions for both images (Paris satellite and chessboard.) Do you notice any difference ? Why in your opinion ?"
      ]
    },
    {
      "cell_type": "code",
      "metadata": {
        "id": "5LOrvOWob5kO"
      },
      "source": [
        ""
      ],
      "execution_count": null,
      "outputs": []
    }
  ]
}